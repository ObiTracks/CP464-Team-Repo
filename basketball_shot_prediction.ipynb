{
 "cells": [
  {
   "cell_type": "code",
   "execution_count": 1,
   "metadata": {},
   "outputs": [],
   "source": [
    "import pandas as pd\n",
    "from sklearn.model_selection import train_test_split\n",
    "from tensorflow import keras\n",
    "from keras.models import Sequential, load_model\n",
    "from keras.layers import Dense\n",
    "from keras.optimizers import Adam\n",
    "\n",
    "# Note: Make sure to replace '/path/to/save/model' and '/path/to/norm_params.csv' with actual paths where you want to save your model and normalization parameters."
   ]
  },
  {
   "cell_type": "code",
   "execution_count": null,
   "metadata": {},
   "outputs": [],
   "source": [
    "# Load and combine datasets\n",
    "dataset_path = \"datasets/nba-shot-chart-dataset-2000-2024\"\n",
    "file_paths = ['/path/to/20001031.csv', '/path/to/20001101.csv', '/path/to/20001102.csv']\n",
    "dfs = [pd.read_csv(file_path) for file_path in file_paths]\n",
    "combined_df = pd.concat(dfs, ignore_index=True)"
   ]
  },
  {
   "cell_type": "code",
   "execution_count": null,
   "metadata": {},
   "outputs": [],
   "source": [
    "# Data cleaning and preprocessing\n",
    "cleaned_df = combined_df.dropna(subset=['made', 'shotX', 'shotY'])\n",
    "cleaned_df['shotX'] = (cleaned_df['shotX'] - cleaned_df['shotX'].mean()) / cleaned_df['shotX'].std()\n",
    "cleaned_df['shotY'] = (cleaned_df['shotY'] - cleaned_df['shotY'].mean()) / cleaned_df['shotY'].std()\n",
    "cleaned_df['made'] = cleaned_df['made'].astype(int)\n"
   ]
  },
  {
   "cell_type": "code",
   "execution_count": null,
   "metadata": {},
   "outputs": [],
   "source": [
    "# Save normalization parameters for use in prediction script\n",
    "x_mean = cleaned_df['shotX'].mean()\n",
    "x_std = cleaned_df['shotX'].std()\n",
    "y_mean = cleaned_df['shotY'].mean()\n",
    "y_std = cleaned_df['shotY'].std()\n",
    "norm_params = {'x_mean': x_mean, 'x_std': x_std, 'y_mean': y_mean, 'y_std': y_std}\n",
    "pd.DataFrame(norm_params, index=[0]).to_csv('/path/to/norm_params.csv', index=False)\n"
   ]
  },
  {
   "cell_type": "code",
   "execution_count": null,
   "metadata": {},
   "outputs": [],
   "source": [
    "# Preparing data for model\n",
    "X = cleaned_df[['shotX', 'shotY']]\n",
    "y = cleaned_df['made']\n",
    "X_train, X_test, y_train, y_test = train_test_split(X, y, test_size=0.2, random_state=42)"
   ]
  },
  {
   "cell_type": "code",
   "execution_count": null,
   "metadata": {},
   "outputs": [],
   "source": [
    "# Model definition\n",
    "model = Sequential([\n",
    "    Dense(64, activation='relu', input_shape=(X_train.shape[1],)),\n",
    "    Dense(64, activation='relu'),\n",
    "    Dense(1, activation='sigmoid')\n",
    "])\n",
    "\n",
    "# Model compilation\n",
    "model.compile(optimizer=Adam(learning_rate=0.001),\n",
    "              loss='binary_crossentropy',\n",
    "              metrics=['accuracy'])"
   ]
  },
  {
   "cell_type": "code",
   "execution_count": null,
   "metadata": {},
   "outputs": [],
   "source": [
    "# Model training\n",
    "history = model.fit(X_train, y_train, epochs=50, batch_size=32, validation_split=0.2)"
   ]
  },
  {
   "cell_type": "code",
   "execution_count": null,
   "metadata": {},
   "outputs": [],
   "source": [
    "# Model evaluation\n",
    "evaluation = model.evaluate(X_test, y_test)\n",
    "print(f'Test Loss: {evaluation[0]}, Test Accuracy: {evaluation[1]}')\n",
    "\n",
    "# Save the model for future use\n",
    "model.save('model/ann_model')\n"
   ]
  }
 ],
 "metadata": {
  "kernelspec": {
   "display_name": "venv",
   "language": "python",
   "name": "python3"
  },
  "language_info": {
   "codemirror_mode": {
    "name": "ipython",
    "version": 3
   },
   "file_extension": ".py",
   "mimetype": "text/x-python",
   "name": "python",
   "nbconvert_exporter": "python",
   "pygments_lexer": "ipython3",
   "version": "3.12.2"
  }
 },
 "nbformat": 4,
 "nbformat_minor": 2
}
