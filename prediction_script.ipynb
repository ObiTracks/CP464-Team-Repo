{
 "cells": [
  {
   "cell_type": "code",
   "execution_count": null,
   "metadata": {},
   "outputs": [],
   "source": [
    "import numpy as np\n",
    "import pandas as pd\n",
    "from tensorflow.keras.models import load_model\n",
    "\n",
    "# Load normalization parameters\n",
    "norm_params = pd.read_csv('/path/to/norm_params.csv')\n",
    "x_mean = norm_params['x_mean'].values[0]\n",
    "x_std = norm_params['x_std'].values[0]\n",
    "y_mean = norm_params['y_mean'].values[0]\n",
    "y_std = norm_params['y_std'].values[0]\n",
    "\n",
    "def normalize_coordinates(x, y):\n",
    "    \"\"\"\n",
    "    Normalize the shot coordinates using the mean and standard deviation\n",
    "    of the training data coordinates.\n",
    "    \"\"\"\n",
    "    x_normalized = (x - x_mean) / x_std\n",
    "    y_normalized = (y - y_mean) / y_std\n",
    "    return x_normalized, y_normalized\n",
    "\n",
    "# Load the trained model\n",
    "model = load_model('/path/to/saved/model')\n",
    "\n",
    "def predict_shot_success(x, y):\n",
    "    \"\"\"\n",
    "    Predicts the probability of a shot being successful.\n",
    "    \"\"\"\n",
    "    x_norm, y_norm = normalize_coordinates(x, y)\n",
    "    prediction = model.predict(np.array([[x_norm, y_norm]]))\n",
    "    return prediction[0][0]\n",
    "\n",
    "# Example user input\n",
    "player_name = input(\"Enter the player's name: \")  # Not used in the prediction, for demonstration\n",
    "x_coordinate = float(input(\"Enter the x coordinate of the shot: \"))\n",
    "y_coordinate = float(input(\"Enter the y coordinate of the shot: \"))\n",
    "\n",
    "# Predict and output the result\n",
    "probability = predict_shot_success(x_coordinate, y_coordinate)\n",
    "print(f\"Probability of making the shot: {probability*100:.2f}%\")\n"
   ]
  }
 ],
 "metadata": {
  "language_info": {
   "name": "python"
  }
 },
 "nbformat": 4,
 "nbformat_minor": 2
}
